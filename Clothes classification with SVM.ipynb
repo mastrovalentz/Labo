{
 "cells": [
  {
   "cell_type": "markdown",
   "metadata": {},
   "source": [
    "# Clothes Classification with Support Vector Machines\n",
    "\n",
    "In this notebook we are going to explore the use of Support Vector Machines (SVM) for image classification. We are going to use a new version of the famous MNIST dataset (the original is a dataset of handwritten digits). The version we are going to use is called Fashion MNIST (https://pravarmahajan.github.io/fashion/) and is a dataset of small images of clothes and accessories.\n",
    "\n",
    "\n",
    "\n",
    "The dataset labels are the following:\n",
    "\n",
    "| Label | Description |\n",
    "| --- | --- |\n",
    "| 0 | T-shirt/top |\n",
    "| 1 | Trouser |\n",
    "| 2 | Pullover |\n",
    "| 3 | Dress |\n",
    "| 4 | Coat |\n",
    "| 5 | Sandal |\n",
    "| 6 | Shirt |\n",
    "| 7 | Sneaker |\n",
    "| 8 | Bag |\n",
    "| 9 | Ankle boot |"
   ]
  },
  {
   "cell_type": "markdown",
   "metadata": {},
   "source": [
    "## TODO: Insert your surname, name and ID number\n",
    "\n",
    "Student name: Alessandro Valente\n",
    "    \n",
    "ID: 1234429"
   ]
  },
  {
   "cell_type": "code",
   "execution_count": 1,
   "metadata": {},
   "outputs": [],
   "source": [
    "#load the required packages\n",
    "\n",
    "%matplotlib inline  \n",
    "\n",
    "import numpy as np\n",
    "import scipy as sp\n",
    "import pandas as pd\n",
    "import matplotlib.pyplot as plt\n",
    "\n",
    "import sklearn\n",
    "from sklearn.datasets import fetch_mldata\n",
    "from sklearn.neural_network import MLPClassifier\n",
    "import sklearn.metrics as skm"
   ]
  },
  {
   "cell_type": "code",
   "execution_count": 2,
   "metadata": {},
   "outputs": [],
   "source": [
    "# helper function to load Fashion MNIST dataset\n",
    "def load_mnist(path, kind='train'):\n",
    "    import os\n",
    "    import gzip\n",
    "    import numpy as np\n",
    "    labels_path = os.path.join(path, '%s-labels-idx1-ubyte.gz' % kind)\n",
    "    images_path = os.path.join(path, '%s-images-idx3-ubyte.gz' % kind)\n",
    "    with gzip.open(labels_path, 'rb') as lbpath:\n",
    "        labels = np.frombuffer(lbpath.read(), dtype=np.uint8,offset=8)\n",
    "    with gzip.open(images_path, 'rb') as imgpath:\n",
    "        images = np.frombuffer(imgpath.read(), dtype=np.uint8,offset=16).reshape(len(labels), 784)\n",
    "    return images, labels"
   ]
  },
  {
   "cell_type": "code",
   "execution_count": 3,
   "metadata": {},
   "outputs": [],
   "source": [
    "#fix your ID (\"numero di matricola\") and the seed for random generator (as usual you can try different seeds)\n",
    "ID = 1234429\n",
    "np.random.seed(ID)"
   ]
  },
  {
   "cell_type": "code",
   "execution_count": 4,
   "metadata": {},
   "outputs": [
    {
     "name": "stdout",
     "output_type": "stream",
     "text": [
      "(60000, 784) (60000,)\n"
     ]
    }
   ],
   "source": [
    "#load the Fashion MNIST dataset from the 'data' folder and let's normalize the features so that each value is in [0,1] \n",
    "\n",
    "X, y = load_mnist('data', kind='train')\n",
    "# rescale the data\n",
    "X, y = X / 255., y # original pixel values are between 0 and 255\n",
    "print(X.shape, y.shape)"
   ]
  },
  {
   "cell_type": "markdown",
   "metadata": {},
   "source": [
    "Now split into training and test. Make sure that each label is present at least 10 times\n",
    "in training. If it is not, then keep adding permutations to the initial data until this \n",
    "happens."
   ]
  },
  {
   "cell_type": "code",
   "execution_count": 5,
   "metadata": {},
   "outputs": [
    {
     "name": "stdout",
     "output_type": "stream",
     "text": [
      "Labels in training dataset:  [0 1 2 3 4 5 6 7 8 9]\n",
      "Frequencies in training dataset:  [55 49 37 58 55 43 53 49 44 57]\n"
     ]
    }
   ],
   "source": [
    "#random permute the data and split into training and test taking the first 500\n",
    "#data samples as training and the rests as test\n",
    "permutation = np.random.permutation(X.shape[0])\n",
    "\n",
    "X = X[permutation]\n",
    "y = y[permutation]\n",
    "\n",
    "m_training = 500\n",
    "\n",
    "X_train, X_test = X[:m_training], X[m_training:]\n",
    "y_train, y_test = y[:m_training], y[m_training:]\n",
    "\n",
    "labels, freqs = np.unique(y_train, return_counts=True)\n",
    "print(\"Labels in training dataset: \", labels)\n",
    "print(\"Frequencies in training dataset: \", freqs)\n"
   ]
  },
  {
   "cell_type": "code",
   "execution_count": 6,
   "metadata": {},
   "outputs": [],
   "source": [
    "#function for plotting a image and printing the corresponding label\n",
    "def plot_input(X_matrix, labels, index):\n",
    "    print(\"INPUT:\")\n",
    "    plt.imshow(\n",
    "        X_matrix[index].reshape(28,28),\n",
    "        cmap          = plt.cm.gray_r,\n",
    "        interpolation = \"nearest\"\n",
    "    )\n",
    "    plt.show()\n",
    "    print(\"LABEL: %i\"%labels[index])\n",
    "    return"
   ]
  },
  {
   "cell_type": "code",
   "execution_count": 7,
   "metadata": {
    "scrolled": true
   },
   "outputs": [
    {
     "name": "stdout",
     "output_type": "stream",
     "text": [
      "INPUT:\n"
     ]
    },
    {
     "data": {
      "image/png": "[encoded data removed]",
      "text/plain": [
       "<Figure size 432x288 with 1 Axes>"
      ]
     },
     "metadata": {
      "needs_background": "light"
     },
     "output_type": "display_data"
    },
    {
     "name": "stdout",
     "output_type": "stream",
     "text": [
      "LABEL: 3\n",
      "INPUT:\n"
     ]
    },
    {
     "data": {
      "image/png": "[encoded data removed]",
      "text/plain": [
       "<Figure size 432x288 with 1 Axes>"
      ]
     },
     "metadata": {
      "needs_background": "light"
     },
     "output_type": "display_data"
    },
    {
     "name": "stdout",
     "output_type": "stream",
     "text": [
      "LABEL: 3\n",
      "INPUT:\n"
     ]
    },
    {
     "data": {
      "image/png": "[encoded data removed]",
      "text/plain": [
       "<Figure size 432x288 with 1 Axes>"
      ]
     },
     "metadata": {
      "needs_background": "light"
     },
     "output_type": "display_data"
    },
    {
     "name": "stdout",
     "output_type": "stream",
     "text": [
      "LABEL: 8\n",
      "INPUT:\n"
     ]
    },
    {
     "data": {
      "image/png": "[encoded data removed]",
      "text/plain": [
       "<Figure size 432x288 with 1 Axes>"
      ]
     },
     "metadata": {
      "needs_background": "light"
     },
     "output_type": "display_data"
    },
    {
     "name": "stdout",
     "output_type": "stream",
     "text": [
      "LABEL: 4\n"
     ]
    }
   ],
   "source": [
    "#let's try the plotting function\n",
    "plot_input(X_train,y_train,5)\n",
    "plot_input(X_test,y_test,50)\n",
    "plot_input(X_test,y_test,500)\n",
    "plot_input(X_test,y_test,5000)"
   ]
  },
  {
   "cell_type": "markdown",
   "metadata": {},
   "source": [
    "## TO DO 1\n",
    "Use a SVM classifier with cross validation to pick a model. Use a 4-fold cross-validation. Let's start with a Linear kernel:"
   ]
  },
  {
   "cell_type": "code",
   "execution_count": 8,
   "metadata": {},
   "outputs": [
    {
     "name": "stdout",
     "output_type": "stream",
     "text": [
      "RESULTS FOR LINEAR KERNEL\n",
      "Best parameters set found:\n",
      "{'C': 0.05}\n",
      "Score with best parameters:\n",
      "0.778\n",
      "All scores on the grid:\n",
      "  param_C  mean_test_score  mean_train_score\n",
      "0  0.0005            0.370          0.374005\n",
      "1   0.005            0.706          0.765925\n",
      "2    0.05            0.778          0.943274\n",
      "3     0.5            0.778          1.000000\n",
      "4       5            0.778          1.000000\n",
      "5      50            0.778          1.000000\n",
      "6     500            0.778          1.000000\n"
     ]
    },
    {
     "name": "stderr",
     "output_type": "stream",
     "text": [
      "/home/alessandro/anaconda3/lib/python3.7/site-packages/sklearn/model_selection/_search.py:813: DeprecationWarning: The default of the `iid` parameter will change from True to False in version 0.22 and will be removed in 0.24. This will change numeric results when test-set sizes are unequal.\n",
      "  DeprecationWarning)\n"
     ]
    }
   ],
   "source": [
    "#import SVC\n",
    "from sklearn.svm import SVC\n",
    "#import for Cross-Validation\n",
    "from sklearn.model_selection import GridSearchCV\n",
    "\n",
    "# parameters for linear SVM\n",
    "parameters = {'C': [0.0005, 0.005, 0.05, 0.5, 5, 50, 500]}\n",
    "\n",
    "#run linear SVM\n",
    "LinSVM = SVC(kernel='linear')\n",
    "LinClasf = GridSearchCV(LinSVM, parameters, cv=4,return_train_score=True)\n",
    "LinClasf.fit(X_train,y_train)\n",
    "\n",
    "print ('RESULTS FOR LINEAR KERNEL')\n",
    "print(\"Best parameters set found:\")\n",
    "print(LinClasf.best_params_)\n",
    "\n",
    "print(\"Score with best parameters:\")\n",
    "print(LinClasf.best_score_)\n",
    "\n",
    "print(\"All scores on the grid:\")\n",
    "LinResult = pd.DataFrame (LinClasf.cv_results_)\n",
    "print(LinResult[['param_C', 'mean_test_score', 'mean_train_score']])\n"
   ]
  },
  {
   "cell_type": "markdown",
   "metadata": {},
   "source": [
    "## TO DO 2\n",
    "Pick a model for the Polynomial kernel with degree=2:"
   ]
  },
  {
   "cell_type": "code",
   "execution_count": 9,
   "metadata": {},
   "outputs": [
    {
     "name": "stdout",
     "output_type": "stream",
     "text": [
      "RESULTS FOR POLY DEGREE=2 KERNEL\n",
      "Best parameters set found:\n",
      "{'C': 0.5, 'gamma': 0.05}\n",
      "Score with best parameters:\n",
      "0.768\n",
      "\n",
      "All scores on the grid:\n",
      "  param_C param_gamma  mean_test_score  mean_train_score\n",
      "0    0.05        0.05            0.720          0.873875\n",
      "1    0.05         0.5            0.766          1.000000\n",
      "2    0.05           5            0.766          1.000000\n",
      "3     0.5        0.05            0.768          0.990654\n",
      "4     0.5         0.5            0.766          1.000000\n",
      "5     0.5           5            0.766          1.000000\n",
      "6       5        0.05            0.766          1.000000\n",
      "7       5         0.5            0.766          1.000000\n",
      "8       5           5            0.766          1.000000\n"
     ]
    },
    {
     "name": "stderr",
     "output_type": "stream",
     "text": [
      "/home/alessandro/anaconda3/lib/python3.7/site-packages/sklearn/model_selection/_search.py:813: DeprecationWarning: The default of the `iid` parameter will change from True to False in version 0.22 and will be removed in 0.24. This will change numeric results when test-set sizes are unequal.\n",
      "  DeprecationWarning)\n"
     ]
    }
   ],
   "source": [
    "# parameters for poly with degree 2 kernel\n",
    "parameters = {'C': [0.05, 0.5, 5],'gamma':[0.05,0.5,5.]}\n",
    "\n",
    "#run SVM with poly of degree 2 kernel\n",
    "\n",
    "Pol2SVM = SVC(kernel='poly',degree=2)\n",
    "Pol2Clasf = GridSearchCV(Pol2SVM, parameters, cv=4,return_train_score=True)\n",
    "Pol2Clasf.fit(X_train,y_train)\n",
    "\n",
    "print ('RESULTS FOR POLY DEGREE=2 KERNEL')\n",
    "\n",
    "print(\"Best parameters set found:\")\n",
    "print(Pol2Clasf.best_params_)\n",
    "\n",
    "print(\"Score with best parameters:\")\n",
    "print(Pol2Clasf.best_score_)\n",
    "\n",
    "print(\"\\nAll scores on the grid:\")\n",
    "Pol2Result=pd.DataFrame(Pol2Clasf.cv_results_ )\n",
    "print(Pol2Result[['param_C','param_gamma','mean_test_score','mean_train_score']])"
   ]
  },
  {
   "cell_type": "markdown",
   "metadata": {},
   "source": [
    "## TO DO 3\n",
    "\n",
    "Now let's try a higher degree for the polynomial kernel."
   ]
  },
  {
   "cell_type": "code",
   "execution_count": 10,
   "metadata": {},
   "outputs": [
    {
     "name": "stdout",
     "output_type": "stream",
     "text": [
      "RESULTS FOR POLY DEGREE=2 KERNEL\n",
      "Best parameters set found:\n",
      "{'C': 0.5, 'gamma': 0.05}\n",
      "Score with best parameters:\n",
      "0.74\n",
      "\n",
      "All scores on the grid:\n",
      "  param_C param_gamma  mean_test_score  mean_train_score\n",
      "0    0.05        0.05            0.716          0.959977\n",
      "1    0.05         0.5            0.730          1.000000\n",
      "2    0.05           5            0.730          1.000000\n",
      "3     0.5        0.05            0.740          0.991318\n",
      "4     0.5         0.5            0.730          1.000000\n",
      "5     0.5           5            0.730          1.000000\n",
      "6       5        0.05            0.730          1.000000\n",
      "7       5         0.5            0.730          1.000000\n",
      "8       5           5            0.730          1.000000\n"
     ]
    },
    {
     "name": "stderr",
     "output_type": "stream",
     "text": [
      "/home/alessandro/anaconda3/lib/python3.7/site-packages/sklearn/model_selection/_search.py:813: DeprecationWarning: The default of the `iid` parameter will change from True to False in version 0.22 and will be removed in 0.24. This will change numeric results when test-set sizes are unequal.\n",
      "  DeprecationWarning)\n"
     ]
    }
   ],
   "source": [
    "# parameters for poly with higher degree kernel\n",
    "parameters = {'C': [0.05, 0.5, 5],'gamma':[0.05,0.5,5.]}\n",
    "\n",
    "#run SVM with poly of higher degree kernel\n",
    "Pol3SVM = SVC(kernel='poly',degree=3)\n",
    "Pol3Clasf = GridSearchCV(Pol3SVM, parameters, cv=4,return_train_score=True)\n",
    "Pol3Clasf.fit(X_train,y_train)\n",
    "\n",
    "print ('RESULTS FOR POLY DEGREE=2 KERNEL')\n",
    "\n",
    "print(\"Best parameters set found:\")\n",
    "print(Pol3Clasf.best_params_)\n",
    "\n",
    "print(\"Score with best parameters:\")\n",
    "print(Pol3Clasf.best_score_)\n",
    "\n",
    "print(\"\\nAll scores on the grid:\")\n",
    "Pol3Result=pd.DataFrame(Pol3Clasf.cv_results_ )\n",
    "print(Pol3Result[['param_C','param_gamma','mean_test_score','mean_train_score']])"
   ]
  },
  {
   "cell_type": "markdown",
   "metadata": {},
   "source": [
    "## TO DO 4\n",
    "Pick a model for the Radial Basis Function kernel:"
   ]
  },
  {
   "cell_type": "code",
   "execution_count": 11,
   "metadata": {},
   "outputs": [
    {
     "name": "stdout",
     "output_type": "stream",
     "text": [
      "RESULTS FOR rbf KERNEL\n",
      "Best parameters set found:\n",
      "{'C': 50, 'gamma': 0.005}\n",
      "Score with best parameters:\n",
      "0.79\n",
      "\n",
      "All scores on the grid:\n",
      "   param_C param_gamma  mean_test_score  mean_train_score\n",
      "0      0.5       0.005            0.692          0.759944\n",
      "1      0.5        0.05            0.652          0.920618\n",
      "2      0.5         0.5            0.114          0.144666\n",
      "3      0.5           5            0.142          0.144666\n",
      "4        5       0.005            0.786          0.955981\n",
      "5        5        0.05            0.762          1.000000\n",
      "6        5         0.5            0.120          1.000000\n",
      "7        5           5            0.114          1.000000\n",
      "8       50       0.005            0.790          1.000000\n",
      "9       50        0.05            0.762          1.000000\n",
      "10      50         0.5            0.120          1.000000\n",
      "11      50           5            0.114          1.000000\n",
      "12     500       0.005            0.790          1.000000\n",
      "13     500        0.05            0.762          1.000000\n",
      "14     500         0.5            0.120          1.000000\n",
      "15     500           5            0.114          1.000000\n"
     ]
    },
    {
     "name": "stderr",
     "output_type": "stream",
     "text": [
      "/home/alessandro/anaconda3/lib/python3.7/site-packages/sklearn/model_selection/_search.py:813: DeprecationWarning: The default of the `iid` parameter will change from True to False in version 0.22 and will be removed in 0.24. This will change numeric results when test-set sizes are unequal.\n",
      "  DeprecationWarning)\n"
     ]
    }
   ],
   "source": [
    "# parameters for rbf SVM\n",
    "parameters = {'C': [0.5, 5, 50, 500],'gamma':[0.005, 0.05, 0.5,5]}\n",
    "\n",
    "#run SVM with rbf kernel\n",
    "RbfSVM = SVC(kernel='rbf')\n",
    "RbfClasf = GridSearchCV(RbfSVM, parameters, cv=4,return_train_score=True)\n",
    "RbfClasf.fit(X_train,y_train)\n",
    "\n",
    "print ('RESULTS FOR rbf KERNEL')\n",
    "\n",
    "print(\"Best parameters set found:\")\n",
    "print(RbfClasf.best_params_)\n",
    "\n",
    "print(\"Score with best parameters:\")\n",
    "print(RbfClasf.best_score_)\n",
    "\n",
    "print(\"\\nAll scores on the grid:\")\n",
    "RbfResult=pd.DataFrame(RbfClasf.cv_results_ )\n",
    "print(RbfResult[['param_C','param_gamma','mean_test_score','mean_train_score']])"
   ]
  },
  {
   "cell_type": "markdown",
   "metadata": {},
   "source": [
    "## TO DO5\n",
    "What do you observe when using RBF and polynomial kernels on this dataset ?\n",
    "\n",
    "### ANSWER TO THE QUESTION\n",
    "\n",
    "The first observation is that going at higher polynomial order  does decrease the score on the test set so for this reason i would expect the RBF kernel to be the best choice. This is confirmed by the tests since the RBF kernel has the highest score on the test set among all the ones.\n",
    "\n",
    "An observation is that for the best parameters in the linear and RBF kernel the training error goes to 0 (score=1) but this is expected since the data set isn't very big and there are also numerical instability phenomena.\n",
    "\n",
    "To confirm the fact that using higher order polynomial kernel does truly decrease the score on test set is possible to go even higher as in the cell below (only score values will be printed):"
   ]
  },
  {
   "cell_type": "code",
   "execution_count": 12,
   "metadata": {},
   "outputs": [
    {
     "name": "stderr",
     "output_type": "stream",
     "text": [
      "/home/alessandro/anaconda3/lib/python3.7/site-packages/sklearn/model_selection/_search.py:813: DeprecationWarning: The default of the `iid` parameter will change from True to False in version 0.22 and will be removed in 0.24. This will change numeric results when test-set sizes are unequal.\n",
      "  DeprecationWarning)\n",
      "/home/alessandro/anaconda3/lib/python3.7/site-packages/sklearn/model_selection/_search.py:813: DeprecationWarning: The default of the `iid` parameter will change from True to False in version 0.22 and will be removed in 0.24. This will change numeric results when test-set sizes are unequal.\n",
      "  DeprecationWarning)\n"
     ]
    },
    {
     "name": "stdout",
     "output_type": "stream",
     "text": [
      "Score with best parameters:\n",
      "Pol4:  0.714\n",
      "Pol5:  0.694\n",
      "Pol6:  0.678\n"
     ]
    },
    {
     "name": "stderr",
     "output_type": "stream",
     "text": [
      "/home/alessandro/anaconda3/lib/python3.7/site-packages/sklearn/model_selection/_search.py:813: DeprecationWarning: The default of the `iid` parameter will change from True to False in version 0.22 and will be removed in 0.24. This will change numeric results when test-set sizes are unequal.\n",
      "  DeprecationWarning)\n"
     ]
    }
   ],
   "source": [
    "Pol4SVM = SVC(kernel='poly',degree=4)\n",
    "Pol4Clasf = GridSearchCV(Pol4SVM, parameters, cv=4,return_train_score=True)\n",
    "Pol4Clasf.fit(X_train,y_train)\n",
    "Pol5SVM = SVC(kernel='poly',degree=5)\n",
    "Pol5Clasf = GridSearchCV(Pol5SVM, parameters, cv=4,return_train_score=True)\n",
    "Pol5Clasf.fit(X_train,y_train)\n",
    "Pol6SVM = SVC(kernel='poly',degree=6)\n",
    "Pol6Clasf = GridSearchCV(Pol6SVM, parameters, cv=4,return_train_score=True)\n",
    "Pol6Clasf.fit(X_train,y_train)\n",
    "\n",
    "\n",
    "print(\"Score with best parameters:\")\n",
    "print(\"Pol4: \", Pol4Clasf.best_score_)\n",
    "print(\"Pol5: \", Pol5Clasf.best_score_)\n",
    "print(\"Pol6: \", Pol6Clasf.best_score_)\n",
    "\n"
   ]
  },
  {
   "cell_type": "markdown",
   "metadata": {},
   "source": [
    "## TO DO 6\n",
    "Report here the best SVM kernel and parameters"
   ]
  },
  {
   "cell_type": "code",
   "execution_count": 13,
   "metadata": {},
   "outputs": [
    {
     "name": "stdout",
     "output_type": "stream",
     "text": [
      "Best SVM training error: 0.000000\n",
      "Best SVM test error: 0.222655\n"
     ]
    }
   ],
   "source": [
    "#get training and test error for the best SVM model from CV\n",
    "#obs:: since the score in test and training set is equal for C=50 and C=500\n",
    "#sometimes the part above return 500 as best estimation but 50 most of the times\n",
    "#but the two values should lead to almost the same result since gamma variation has more influence\n",
    "best_SVM = SVC(C=50,gamma=0.005,kernel='rbf')\n",
    "best_SVM.fit(X_train,y_train)\n",
    "\n",
    "training_error = 1. - best_SVM.score(X_train,y_train)\n",
    "test_error = 1. - best_SVM.score(X_test,y_test)\n",
    "\n",
    "print (\"Best SVM training error: %f\" % training_error)\n",
    "print (\"Best SVM test error: %f\" % test_error)"
   ]
  },
  {
   "cell_type": "markdown",
   "metadata": {},
   "source": [
    "## More data\n",
    "Now let's do the same but using more data points for training.\n",
    "\n",
    "\n",
    "Choose a new number of data points."
   ]
  },
  {
   "cell_type": "code",
   "execution_count": 14,
   "metadata": {},
   "outputs": [
    {
     "name": "stdout",
     "output_type": "stream",
     "text": [
      "Labels in training dataset:  [0 1 2 3 4 5 6 7 8 9]\n",
      "Frequencies in training dataset:  [223 209 190 186 195 188 200 191 208 210]\n"
     ]
    }
   ],
   "source": [
    "X = X[permutation]\n",
    "y = y[permutation]\n",
    "\n",
    "m_training = 2000 # TODO number of data points, adjust depending on the capabilities of your PC\n",
    "\n",
    "X_train, X_test = X[:m_training], X[m_training:]\n",
    "y_train, y_test = y[:m_training], y[m_training:]\n",
    "\n",
    "labels, freqs = np.unique(y_train, return_counts=True)\n",
    "print(\"Labels in training dataset: \", labels)\n",
    "print(\"Frequencies in training dataset: \", freqs)"
   ]
  },
  {
   "cell_type": "markdown",
   "metadata": {},
   "source": [
    "Let's try to use SVM with parameters obtained from the best model for $m_{training} =  2000$. Since it may take a long time to run, you can decide to just let it run for some time and stop it if it does not complete. If you decide to do this, report it in the TO DO 9 cell below.\n",
    "\n",
    "### TO DO 7"
   ]
  },
  {
   "cell_type": "code",
   "execution_count": 15,
   "metadata": {
    "scrolled": true
   },
   "outputs": [
    {
     "name": "stdout",
     "output_type": "stream",
     "text": [
      "Best SVM training error: 0.000500\n",
      "Best SVM test error: 0.164224\n"
     ]
    }
   ],
   "source": [
    "#get training and test error for the best SVM model from CV\n",
    "best_SVM = SVC(C=50,gamma=0.005,kernel='rbf')\n",
    "best_SVM.fit(X_train,y_train)\n",
    "training_error = 1. - best_SVM.score(X_train,y_train)\n",
    "test_error = 1. - best_SVM.score(X_test,y_test)\n",
    "\n",
    "print (\"Best SVM training error: %f\" % training_error)\n",
    "print (\"Best SVM test error: %f\" % test_error)"
   ]
  },
  {
   "cell_type": "markdown",
   "metadata": {},
   "source": [
    "Just for comparison, let's also use logistic regression (with standard parameters from scikit-learn, i.e. some regularization is included).\n",
    "\n",
    "### TO DO 8 Try first without regularization (use a very large large C)"
   ]
  },
  {
   "cell_type": "code",
   "execution_count": 16,
   "metadata": {},
   "outputs": [
    {
     "name": "stderr",
     "output_type": "stream",
     "text": [
      "/home/alessandro/anaconda3/lib/python3.7/site-packages/sklearn/linear_model/logistic.py:432: FutureWarning: Default solver will be changed to 'lbfgs' in 0.22. Specify a solver to silence this warning.\n",
      "  FutureWarning)\n",
      "/home/alessandro/anaconda3/lib/python3.7/site-packages/sklearn/linear_model/logistic.py:469: FutureWarning: Default multi_class will be changed to 'auto' in 0.22. Specify the multi_class option to silence this warning.\n",
      "  \"this warning.\", FutureWarning)\n"
     ]
    },
    {
     "name": "stdout",
     "output_type": "stream",
     "text": [
      "Best logistic regression training error: 0.000000\n",
      "Best logistic regression test error: 0.238828\n"
     ]
    }
   ],
   "source": [
    "from sklearn import linear_model\n",
    "from sklearn import metrics\n",
    "\n",
    "regression =   linear_model.LogisticRegression(C=10000)\n",
    "regression.fit(X_train,y_train)\n",
    "\n",
    "Y_pred_train=regression.predict(X_train)\n",
    "Y_pred_test=regression.predict(X_test)\n",
    "\n",
    "training_error= 1- metrics.accuracy_score(y_train, Y_pred_train)\n",
    "test_error= 1- metrics.accuracy_score(y_test, Y_pred_test)\n",
    "\n",
    "print (\"Best logistic regression training error: %f\" % training_error)\n",
    "print (\"Best logistic regression test error: %f\" % test_error)"
   ]
  },
  {
   "cell_type": "markdown",
   "metadata": {},
   "source": [
    "### TO DO 9 Then use also some regularization "
   ]
  },
  {
   "cell_type": "code",
   "execution_count": 17,
   "metadata": {},
   "outputs": [
    {
     "name": "stderr",
     "output_type": "stream",
     "text": [
      "/home/alessandro/anaconda3/lib/python3.7/site-packages/sklearn/linear_model/logistic.py:432: FutureWarning: Default solver will be changed to 'lbfgs' in 0.22. Specify a solver to silence this warning.\n",
      "  FutureWarning)\n",
      "/home/alessandro/anaconda3/lib/python3.7/site-packages/sklearn/linear_model/logistic.py:469: FutureWarning: Default multi_class will be changed to 'auto' in 0.22. Specify the multi_class option to silence this warning.\n",
      "  \"this warning.\", FutureWarning)\n"
     ]
    },
    {
     "name": "stdout",
     "output_type": "stream",
     "text": [
      "Best L2 regularized logistic regression training error: 0.037000\n",
      "Best L2 regularized logistic regression test error: 0.183638\n"
     ]
    },
    {
     "name": "stderr",
     "output_type": "stream",
     "text": [
      "/home/alessandro/anaconda3/lib/python3.7/site-packages/sklearn/linear_model/logistic.py:432: FutureWarning: Default solver will be changed to 'lbfgs' in 0.22. Specify a solver to silence this warning.\n",
      "  FutureWarning)\n",
      "/home/alessandro/anaconda3/lib/python3.7/site-packages/sklearn/linear_model/logistic.py:469: FutureWarning: Default multi_class will be changed to 'auto' in 0.22. Specify the multi_class option to silence this warning.\n",
      "  \"this warning.\", FutureWarning)\n"
     ]
    },
    {
     "name": "stdout",
     "output_type": "stream",
     "text": [
      "Best L1 regularized logistic regression training error: 0.075000\n",
      "Best L1 regularized logistic regression test error: 0.186862\n"
     ]
    }
   ],
   "source": [
    "from sklearn import linear_model\n",
    "from sklearn import metrics\n",
    "\n",
    "L2regression =   linear_model.LogisticRegression(penalty='l2')\n",
    "L2regression.fit(X_train,y_train)\n",
    "\n",
    "Y_pred_train=L2regression.predict(X_train)\n",
    "Y_pred_test=L2regression.predict(X_test)\n",
    "\n",
    "training_error= 1- metrics.accuracy_score(y_train, Y_pred_train)\n",
    "test_error= 1- metrics.accuracy_score(y_test, Y_pred_test)\n",
    "\n",
    "print (\"Best L2 regularized logistic regression training error: %f\" % training_error)\n",
    "print (\"Best L2 regularized logistic regression test error: %f\" % test_error)\n",
    "\n",
    "L1regression =   linear_model.LogisticRegression(penalty='l1')\n",
    "L1regression.fit(X_train,y_train)\n",
    "\n",
    "Y_pred_train=L1regression.predict(X_train)\n",
    "Y_pred_test=L1regression.predict(X_test)\n",
    "\n",
    "training_error= 1- metrics.accuracy_score(y_train, Y_pred_train)\n",
    "test_error= 1- metrics.accuracy_score(y_test, Y_pred_test)\n",
    "\n",
    "print (\"Best L1 regularized logistic regression training error: %f\" % training_error)\n",
    "print (\"Best L1 regularized logistic regression test error: %f\" % test_error)"
   ]
  },
  {
   "cell_type": "markdown",
   "metadata": {},
   "source": [
    "## TO DO 10\n",
    "Compare and discuss:\n",
    "- the results from SVM with m=500 and with m=2000 training data points. If you stopped the SVM, include such aspect in your comparison.\n",
    "- the results of SVM and of Logistic Regression with and without regularization\n",
    "\n",
    "### ANSWER TO THE QUESTION\n",
    "\n",
    "As expected with a bigger training set the score on the test obtainet in the SVM set improves since the parameters get a better estimation.\n",
    "We can also observe that in the bigger data set case the error on training set is not null as we would expect.\n",
    "\n",
    "The logistic regression (with and without regularization) score on test set is worse than the score with SVM meaning that the SVM is the correct approach to this type of classification. We can also observe that without regualrization the logistic regression is able to decently classify the data even thou the score is worse compared to the SVM one; on the other hand the regularized regressions have better test error compared to the not regularized regression but the training error is higher and the test error is still bigger compared to the SVM one."
   ]
  },
  {
   "cell_type": "markdown",
   "metadata": {},
   "source": [
    "## TO DO 10\n",
    "Plot an item of clothing that is missclassified by logistic regression and correctly classified by SVM."
   ]
  },
  {
   "cell_type": "code",
   "execution_count": 18,
   "metadata": {},
   "outputs": [
    {
     "name": "stdout",
     "output_type": "stream",
     "text": [
      "predictions: \n",
      "\n",
      "Log reg : 3\n",
      "SVM:  8\n",
      "INPUT:\n"
     ]
    },
    {
     "data": {
      "image/png": "[encoded data removed]",
      "text/plain": [
       "<Figure size 432x288 with 1 Axes>"
      ]
     },
     "metadata": {
      "needs_background": "light"
     },
     "output_type": "display_data"
    },
    {
     "name": "stdout",
     "output_type": "stream",
     "text": [
      "LABEL: 8\n"
     ]
    }
   ],
   "source": [
    "LR_prediction = L2regression.predict(X_test) #i use the l2 regression since has the highest score in the test set\n",
    "SVM_prediction = best_SVM.predict(X_test)\n",
    "\n",
    "for i in range(len(y_test)):\n",
    "    if (SVM_prediction[i]!=LR_prediction[i] ) and (y_test[i]==SVM_prediction[i]):\n",
    "        print(\"predictions: \\n\")\n",
    "        print(\"Log reg :\", LR_prediction[i])\n",
    "        print(\"SVM: \",SVM_prediction[i])\n",
    "        plot_input(X_test, y_test, i)\n",
    "        break"
   ]
  },
  {
   "cell_type": "markdown",
   "metadata": {},
   "source": [
    "## TO DO 11\n",
    "Plot the confusion matrix for the SVM classifier and for logistic regression.\n",
    "The confusion matrix has one column for each predicted label and one row for each true label. \n",
    "It shows for each class in the corresponding row how many samples belonging to that class gets each possible output label.\n",
    "Notice that the diagonal contains the correctly classified samples, while the other cells correspond to errors.\n",
    "You can obtain it with the sklearn.metrics.confusion_matrix function (see the documentation).\n",
    "Try also to normalize the confusion matrix by the number of samples in each class in order to measure the accuracy on each single class.\n"
   ]
  },
  {
   "cell_type": "code",
   "execution_count": 19,
   "metadata": {},
   "outputs": [
    {
     "name": "stdout",
     "output_type": "stream",
     "text": [
      "Labels and frequencies in test set:  [5777 5791 5810 5814 5805 5812 5800 5809 5792 5790]\n",
      "\n",
      " Confusion matrix SVM  \n",
      " \n",
      " [[4781   27  124  163   25    4  590    1   61    1]\n",
      " [  57 5540   63   97   19    0   11    0    3    1]\n",
      " [ 157    4 4258   39  727    1  587    0   36    1]\n",
      " [ 372   87  166 4721  278    0  170    0   20    0]\n",
      " [  19    4  627  180 4380    2  568    0   24    1]\n",
      " [   3    0    4    1    1 5305    4  300   29  165]\n",
      " [1029   14  632  121  514    1 3395    0   93    1]\n",
      " [   0    0    0    0    0  239    0 5342   11  217]\n",
      " [  60    6   59   43   35   41   90   32 5422    4]\n",
      " [   0    0    5    1    0  108    1  341    3 5331]]\n",
      "\n",
      " Confusion matrix SVM (normalized)   \n",
      " \n",
      " [[0.83 0.   0.02 0.03 0.   0.   0.1  0.   0.01 0.  ]\n",
      " [0.01 0.96 0.01 0.02 0.   0.   0.   0.   0.   0.  ]\n",
      " [0.03 0.   0.73 0.01 0.13 0.   0.1  0.   0.01 0.  ]\n",
      " [0.06 0.01 0.03 0.81 0.05 0.   0.03 0.   0.   0.  ]\n",
      " [0.   0.   0.11 0.03 0.75 0.   0.1  0.   0.   0.  ]\n",
      " [0.   0.   0.   0.   0.   0.91 0.   0.05 0.   0.03]\n",
      " [0.18 0.   0.11 0.02 0.09 0.   0.59 0.   0.02 0.  ]\n",
      " [0.   0.   0.   0.   0.   0.04 0.   0.92 0.   0.04]\n",
      " [0.01 0.   0.01 0.01 0.01 0.01 0.02 0.01 0.94 0.  ]\n",
      " [0.   0.   0.   0.   0.   0.02 0.   0.06 0.   0.92]]\n",
      "\n",
      " Confusion matrix LR  \n",
      " \n",
      " [[4659   37  144  186   66    4  579    2   98    2]\n",
      " [  36 5505   80  114   29    1   17    2    6    1]\n",
      " [ 173   14 3877   52  975    5  659    0   55    0]\n",
      " [ 334   99   81 4683  358    0  235    2   21    1]\n",
      " [  21    9  457  161 4446    3  664    0   43    1]\n",
      " [   5    0    6    5    1 4948   37  410   82  318]\n",
      " [ 963   20  655  144  638    5 3222    2  149    2]\n",
      " [   0    0    1    0    0  200    0 5286   16  306]\n",
      " [  35    4   39   75   47   41  108   44 5392    7]\n",
      " [   1    1    1    2    0  103    2  345    4 5331]]\n",
      "\n",
      " Confusion matrix LR (normalized)   \n",
      " \n",
      " [[0.81 0.01 0.02 0.03 0.01 0.   0.1  0.   0.02 0.  ]\n",
      " [0.01 0.95 0.01 0.02 0.01 0.   0.   0.   0.   0.  ]\n",
      " [0.03 0.   0.67 0.01 0.17 0.   0.11 0.   0.01 0.  ]\n",
      " [0.06 0.02 0.01 0.81 0.06 0.   0.04 0.   0.   0.  ]\n",
      " [0.   0.   0.08 0.03 0.77 0.   0.11 0.   0.01 0.  ]\n",
      " [0.   0.   0.   0.   0.   0.85 0.01 0.07 0.01 0.05]\n",
      " [0.17 0.   0.11 0.02 0.11 0.   0.56 0.   0.03 0.  ]\n",
      " [0.   0.   0.   0.   0.   0.03 0.   0.91 0.   0.05]\n",
      " [0.01 0.   0.01 0.01 0.01 0.01 0.02 0.01 0.93 0.  ]\n",
      " [0.   0.   0.   0.   0.   0.02 0.   0.06 0.   0.92]]\n"
     ]
    }
   ],
   "source": [
    "# for better aligned printing of confusion matrix use floatmode='fixed' (not supported in all versions of Python)\n",
    "np.set_printoptions(precision=2, suppress=True) \n",
    "\n",
    "u, counts = np.unique(y_test, return_counts=True)\n",
    "print(\"Labels and frequencies in test set: \", counts)\n",
    "\n",
    "confusion_SVM = sklearn.metrics.confusion_matrix(y_test,SVM_prediction)\n",
    "print(\"\\n Confusion matrix SVM  \\n \\n\", confusion_SVM)\n",
    "print(\"\\n Confusion matrix SVM (normalized)   \\n \\n\", confusion_SVM /counts[:,None] )\n",
    "\n",
    "confusion_LR = sklearn.metrics.confusion_matrix(y_test,LR_prediction)\n",
    "print(\"\\n Confusion matrix LR  \\n \\n\", confusion_LR)\n",
    "print(\"\\n Confusion matrix LR (normalized)   \\n \\n\", confusion_LR /counts[:,None] )"
   ]
  },
  {
   "cell_type": "markdown",
   "metadata": {},
   "source": [
    "## TO DO 12\n",
    "Have a look at the confusion matrices and comment on the obtained accuracies. Why some classes have lower accuracies and others an higher one ? Make some guesses on the possible causes.\n",
    "\n",
    "### ANSWER TO THE QUESTION\n"
   ]
  },
  {
   "cell_type": "markdown",
   "metadata": {},
   "source": [
    "Both in the LR and SVM confusion matrix the worst classified class is the shirt class.\n",
    "\n",
    "Some classes have better accuracies probably because in the recognition their class is easier to distinguish among the other.\n",
    "\n",
    "This may be that also the explanation of the T-shirt bad classification result: since this class is similar to others  (tshirt pullover and dresses) is easier to be  missclassified, this fact may be confirmed observing that the classes that are not very similar to others like bag and trouser have high diagonal value in the matrices."
   ]
  },
  {
   "cell_type": "code",
   "execution_count": null,
   "metadata": {},
   "outputs": [],
   "source": []
  }
 ],
 "metadata": {
  "kernelspec": {
   "display_name": "Python 3",
   "language": "python",
   "name": "python3"
  },
  "language_info": {
   "codemirror_mode": {
    "name": "ipython",
    "version": 3
   },
   "file_extension": ".py",
   "mimetype": "text/x-python",
   "name": "python",
   "nbconvert_exporter": "python",
   "pygments_lexer": "ipython3",
   "version": "3.7.3"
  }
 },
 "nbformat": 4,
 "nbformat_minor": 4
}
