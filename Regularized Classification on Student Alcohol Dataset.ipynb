{
 "cells": [
  {
   "cell_type": "markdown",
   "metadata": {},
   "source": [
    "# Regularized Classification on Student Alcohol Dataset\n",
    "\n",
    "We are going to use a dataset from Kaggle (https://www.kaggle.com/uciml/student-alcohol-consumption)\n",
    " \n",
    "### Dataset description\n",
    "\n",
    ">The data were obtained in a survey of students from the portuguese language courses in a secondary school. It contains a lot of interesting social, gender and study information about students.\n",
    "\n",
    "> Have a look at the information about the dataset at the webpage: https://www.kaggle.com/uciml/student-alcohol-consumption\n",
    "\n",
    ">In this context, we ask you to estimate which students are the most prone to alcohol consumption given some social and educational information. "
   ]
  },
  {
   "cell_type": "markdown",
   "metadata": {},
   "source": [
    "# TO DO: put your Surname, Name and ID number (\"numero di matricola\")\n",
    "\n",
    "\n",
    "Student Name: Valente Alessandro\n",
    "\n",
    "ID Number: 1234429\n"
   ]
  },
  {
   "cell_type": "code",
   "execution_count": 2,
   "metadata": {},
   "outputs": [],
   "source": [
    "import numpy as np\n",
    "\n",
    "# The seed will be used as seed for splitting the data into training and test. \n",
    "# You can place your ID or also try different seeds to see the impact of the random subdvision of the train and test sets\n",
    "# and of the random components in the algorithm on the results\n",
    "IDnumber = 1234429\n",
    "np.random.seed(IDnumber)"
   ]
  },
  {
   "cell_type": "code",
   "execution_count": 3,
   "metadata": {},
   "outputs": [],
   "source": [
    "# let's load library for plotting\n",
    "%matplotlib inline  \n",
    "import matplotlib.pyplot as plt"
   ]
  },
  {
   "cell_type": "markdown",
   "metadata": {},
   "source": [
    "## Data Preprocessing\n",
    "\n",
    "Load the data from a .csv file. In this notebook we use the pandas (Python Data Analysis Library) package, since it provides useful functions to clean the data. In particular, it allows us to remove samples with missing data, as we do below. We also plot some descriptions of columns, check the pandas documentation for 'describe()' if you want to know more."
   ]
  },
  {
   "cell_type": "code",
   "execution_count": 4,
   "metadata": {},
   "outputs": [
    {
     "data": {
      "text/html": [
       "<div>\n",
       "<style scoped>\n",
       "    .dataframe tbody tr th:only-of-type {\n",
       "        vertical-align: middle;\n",
       "    }\n",
       "\n",
       "    .dataframe tbody tr th {\n",
       "        vertical-align: top;\n",
       "    }\n",
       "\n",
       "    .dataframe thead th {\n",
       "        text-align: right;\n",
       "    }\n",
       "</style>\n",
       "<table border=\"1\" class=\"dataframe\">\n",
       "  <thead>\n",
       "    <tr style=\"text-align: right;\">\n",
       "      <th></th>\n",
       "      <th>drink_alcohol</th>\n",
       "      <th>age</th>\n",
       "      <th>Medu</th>\n",
       "      <th>Fedu</th>\n",
       "      <th>traveltime</th>\n",
       "      <th>studytime</th>\n",
       "      <th>famrel</th>\n",
       "      <th>freetime</th>\n",
       "      <th>goout</th>\n",
       "      <th>health</th>\n",
       "      <th>absences</th>\n",
       "      <th>Marks</th>\n",
       "    </tr>\n",
       "  </thead>\n",
       "  <tbody>\n",
       "    <tr>\n",
       "      <th>count</th>\n",
       "      <td>649.000000</td>\n",
       "      <td>649.000000</td>\n",
       "      <td>649.000000</td>\n",
       "      <td>649.000000</td>\n",
       "      <td>649.000000</td>\n",
       "      <td>649.000000</td>\n",
       "      <td>649.000000</td>\n",
       "      <td>649.000000</td>\n",
       "      <td>649.000000</td>\n",
       "      <td>649.000000</td>\n",
       "      <td>649.000000</td>\n",
       "      <td>649.000000</td>\n",
       "    </tr>\n",
       "    <tr>\n",
       "      <th>mean</th>\n",
       "      <td>0.454545</td>\n",
       "      <td>16.744222</td>\n",
       "      <td>2.514638</td>\n",
       "      <td>2.306626</td>\n",
       "      <td>1.568567</td>\n",
       "      <td>1.930663</td>\n",
       "      <td>3.930663</td>\n",
       "      <td>3.180277</td>\n",
       "      <td>3.184900</td>\n",
       "      <td>3.536210</td>\n",
       "      <td>3.659476</td>\n",
       "      <td>11.906009</td>\n",
       "    </tr>\n",
       "    <tr>\n",
       "      <th>std</th>\n",
       "      <td>0.498314</td>\n",
       "      <td>1.218138</td>\n",
       "      <td>1.134552</td>\n",
       "      <td>1.099931</td>\n",
       "      <td>0.748660</td>\n",
       "      <td>0.829510</td>\n",
       "      <td>0.955717</td>\n",
       "      <td>1.051093</td>\n",
       "      <td>1.175766</td>\n",
       "      <td>1.446259</td>\n",
       "      <td>4.640759</td>\n",
       "      <td>3.230656</td>\n",
       "    </tr>\n",
       "    <tr>\n",
       "      <th>min</th>\n",
       "      <td>0.000000</td>\n",
       "      <td>15.000000</td>\n",
       "      <td>0.000000</td>\n",
       "      <td>0.000000</td>\n",
       "      <td>1.000000</td>\n",
       "      <td>1.000000</td>\n",
       "      <td>1.000000</td>\n",
       "      <td>1.000000</td>\n",
       "      <td>1.000000</td>\n",
       "      <td>1.000000</td>\n",
       "      <td>0.000000</td>\n",
       "      <td>0.000000</td>\n",
       "    </tr>\n",
       "    <tr>\n",
       "      <th>25%</th>\n",
       "      <td>0.000000</td>\n",
       "      <td>16.000000</td>\n",
       "      <td>2.000000</td>\n",
       "      <td>1.000000</td>\n",
       "      <td>1.000000</td>\n",
       "      <td>1.000000</td>\n",
       "      <td>4.000000</td>\n",
       "      <td>3.000000</td>\n",
       "      <td>2.000000</td>\n",
       "      <td>2.000000</td>\n",
       "      <td>0.000000</td>\n",
       "      <td>10.000000</td>\n",
       "    </tr>\n",
       "    <tr>\n",
       "      <th>50%</th>\n",
       "      <td>0.000000</td>\n",
       "      <td>17.000000</td>\n",
       "      <td>2.000000</td>\n",
       "      <td>2.000000</td>\n",
       "      <td>1.000000</td>\n",
       "      <td>2.000000</td>\n",
       "      <td>4.000000</td>\n",
       "      <td>3.000000</td>\n",
       "      <td>3.000000</td>\n",
       "      <td>4.000000</td>\n",
       "      <td>2.000000</td>\n",
       "      <td>12.000000</td>\n",
       "    </tr>\n",
       "    <tr>\n",
       "      <th>75%</th>\n",
       "      <td>1.000000</td>\n",
       "      <td>18.000000</td>\n",
       "      <td>4.000000</td>\n",
       "      <td>3.000000</td>\n",
       "      <td>2.000000</td>\n",
       "      <td>2.000000</td>\n",
       "      <td>5.000000</td>\n",
       "      <td>4.000000</td>\n",
       "      <td>4.000000</td>\n",
       "      <td>5.000000</td>\n",
       "      <td>6.000000</td>\n",
       "      <td>14.000000</td>\n",
       "    </tr>\n",
       "    <tr>\n",
       "      <th>max</th>\n",
       "      <td>1.000000</td>\n",
       "      <td>22.000000</td>\n",
       "      <td>4.000000</td>\n",
       "      <td>4.000000</td>\n",
       "      <td>4.000000</td>\n",
       "      <td>4.000000</td>\n",
       "      <td>5.000000</td>\n",
       "      <td>5.000000</td>\n",
       "      <td>5.000000</td>\n",
       "      <td>5.000000</td>\n",
       "      <td>32.000000</td>\n",
       "      <td>19.000000</td>\n",
       "    </tr>\n",
       "  </tbody>\n",
       "</table>\n",
       "</div>"
      ],
      "text/plain": [
       "       drink_alcohol         age        Medu        Fedu  traveltime  \\\n",
       "count     649.000000  649.000000  649.000000  649.000000  649.000000   \n",
       "mean        0.454545   16.744222    2.514638    2.306626    1.568567   \n",
       "std         0.498314    1.218138    1.134552    1.099931    0.748660   \n",
       "min         0.000000   15.000000    0.000000    0.000000    1.000000   \n",
       "25%         0.000000   16.000000    2.000000    1.000000    1.000000   \n",
       "50%         0.000000   17.000000    2.000000    2.000000    1.000000   \n",
       "75%         1.000000   18.000000    4.000000    3.000000    2.000000   \n",
       "max         1.000000   22.000000    4.000000    4.000000    4.000000   \n",
       "\n",
       "        studytime      famrel    freetime       goout      health    absences  \\\n",
       "count  649.000000  649.000000  649.000000  649.000000  649.000000  649.000000   \n",
       "mean     1.930663    3.930663    3.180277    3.184900    3.536210    3.659476   \n",
       "std      0.829510    0.955717    1.051093    1.175766    1.446259    4.640759   \n",
       "min      1.000000    1.000000    1.000000    1.000000    1.000000    0.000000   \n",
       "25%      1.000000    4.000000    3.000000    2.000000    2.000000    0.000000   \n",
       "50%      2.000000    4.000000    3.000000    3.000000    4.000000    2.000000   \n",
       "75%      2.000000    5.000000    4.000000    4.000000    5.000000    6.000000   \n",
       "max      4.000000    5.000000    5.000000    5.000000    5.000000   32.000000   \n",
       "\n",
       "            Marks  \n",
       "count  649.000000  \n",
       "mean    11.906009  \n",
       "std      3.230656  \n",
       "min      0.000000  \n",
       "25%     10.000000  \n",
       "50%     12.000000  \n",
       "75%     14.000000  \n",
       "max     19.000000  "
      ]
     },
     "execution_count": 4,
     "metadata": {},
     "output_type": "execute_result"
    }
   ],
   "source": [
    "# let's load pands and numpy\n",
    "import pandas as pd\n",
    "import numpy as np\n",
    "\n",
    "# this time we use pandas to load and clean the dataset\n",
    "\n",
    "# read the data from the csv file\n",
    "df = pd.read_csv(\"data/student-data.csv\", sep=',')\n",
    "\n",
    "# let's see some statistics about the data \n",
    "df.describe()"
   ]
  },
  {
   "cell_type": "markdown",
   "metadata": {
    "collapsed": true
   },
   "source": [
    "Now we create data matrices: many of the features are categorical, so we need to encode them with ***indicator matrices*** (i.e., using the so called one-hot encoding). That is, if a feature can take $\\ell$ different values $v_1,\\dots,v_{\\ell}$, we create $\\ell$ indicator (0-1) features $I_1,\\dots,I_{\\ell}$, such that $I_{j} = 1$ if and only if the value of the feature is $v_j$. This can be done in Python by first encode a feature with integers with LabelEncoder() and then obtain the indicator variables with OneHotEncoder()."
   ]
  },
  {
   "cell_type": "code",
   "execution_count": 5,
   "metadata": {},
   "outputs": [
    {
     "name": "stdout",
     "output_type": "stream",
     "text": [
      "['drink_alcohol', 'school', 'sex', 'age', 'address', 'famsize', 'Pstatus', 'Medu', 'Fedu', 'Mjob', 'Fjob', 'guardian', 'traveltime', 'studytime', 'famrel', 'freetime', 'goout', 'health', 'absences', 'Marks']\n",
      "Number of samples: 649\n",
      "Categorical feature: school    Number of categories: (2,)\n",
      "Categorical feature: sex    Number of categories: (2,)\n",
      "Valued feature: age\n",
      "Categorical feature: address    Number of categories: (2,)\n",
      "Categorical feature: famsize    Number of categories: (2,)\n",
      "Categorical feature: Pstatus    Number of categories: (2,)\n",
      "Categorical feature: Medu    Number of categories: (5,)\n",
      "Categorical feature: Fedu    Number of categories: (5,)\n",
      "Categorical feature: Mjob    Number of categories: (5,)\n",
      "Categorical feature: Fjob    Number of categories: (5,)\n",
      "Categorical feature: guardian    Number of categories: (3,)\n",
      "Categorical feature: traveltime    Number of categories: (4,)\n",
      "Categorical feature: studytime    Number of categories: (4,)\n",
      "Categorical feature: famrel    Number of categories: (5,)\n",
      "Categorical feature: freetime    Number of categories: (5,)\n",
      "Categorical feature: goout    Number of categories: (5,)\n",
      "Categorical feature: health    Number of categories: (5,)\n",
      "Valued feature: absences\n",
      "Valued feature: Marks\n",
      "Shape of X: (649, 64)\n",
      "Sample element from X: [0.0 1.0 0.0 1.0 15 0.0 1.0 1.0 0.0 0.0 1.0 0.0 0.0 0.0 0.0 1.0 0.0 0.0\n",
      " 0.0 1.0 0.0 0.0 0.0 0.0 0.0 1.0 0.0 0.0 1.0 0.0 0.0 0.0 1.0 0.0 1.0 0.0\n",
      " 0.0 0.0 0.0 1.0 0.0 0.0 0.0 0.0 0.0 1.0 0.0 0.0 0.0 0.0 1.0 0.0 1.0 0.0\n",
      " 0.0 0.0 0.0 1.0 0.0 0.0 0.0 0.0 0 14]\n"
     ]
    }
   ],
   "source": [
    "#df.values contains the data, both the values of instances and the value of the label\n",
    "Data = df.values\n",
    "# the matrix including the categorical data is given by columns from the second one \n",
    "X_categorical = Data[:,1:]\n",
    "# the target value (class) is in the first column\n",
    "Y = Data[:,0]\n",
    "\n",
    "print(list(df))\n",
    "\n",
    "# get the number d of features of each sample\n",
    "d = X_categorical.shape[1]\n",
    "\n",
    "# get the number m of samples\n",
    "m = X_categorical.shape[0]\n",
    "\n",
    "#let's see what the number of samples is\n",
    "print(\"Number of samples: {}\".format(m))\n",
    "\n",
    "#now encode categorical variables using integers and one-hot-encoder\n",
    "\n",
    "from sklearn.preprocessing import LabelEncoder, OneHotEncoder\n",
    "label_encoder = LabelEncoder()\n",
    "onehot_encoder = OneHotEncoder(categories='auto')\n",
    "\n",
    "# encode the first column of the data matrix into indicator variables\n",
    "\n",
    "X_tmp = label_encoder.fit_transform(X_categorical[:,1])\n",
    "X_tmp = X_tmp.reshape(X_tmp.shape[0],1)\n",
    "X = onehot_encoder.fit_transform(X_tmp[:,0].reshape(-1,1)).toarray()\n",
    "print(\"Categorical feature:\", df.columns[1], \"   Number of categories:\", X[1,:].shape)\n",
    "\n",
    "# repeat for the other categorical input variables\n",
    "index_categorical = [1,3,4,5,6,7,8,9,10,11,12,13,14,15,16]\n",
    "\n",
    "for i in range(1,19):\n",
    "    if i in index_categorical:\n",
    "        X_tmp = label_encoder.fit_transform(X_categorical[:,i])\n",
    "        X_tmp = X_tmp.reshape(X_tmp.shape[0],1)\n",
    "        X_tmp = onehot_encoder.fit_transform(X_tmp[:,0].reshape(-1,1)).toarray()\n",
    "        X = np.hstack((X,X_tmp))\n",
    "        print(\"Categorical feature:\", df.columns[i+1], \"   Number of categories:\", X_tmp[1,:].shape)\n",
    "    else:\n",
    "        X_tmp = X_categorical[:,i]\n",
    "        X_tmp = X_tmp.reshape(X_tmp.shape[0],1)\n",
    "        X = np.hstack((X,X_tmp))\n",
    "        print(\"Valued feature:\", df.columns[i+1])\n",
    "        \n",
    "print(\"Shape of X:\", X.shape)\n",
    "print(\"Sample element from X:\", X[20,:])"
   ]
  },
  {
   "cell_type": "markdown",
   "metadata": {},
   "source": [
    "## Data Preprocessing\n",
    "\n",
    "The class labels are already 0-1, so we can use them directly."
   ]
  },
  {
   "cell_type": "code",
   "execution_count": 6,
   "metadata": {},
   "outputs": [
    {
     "name": "stdout",
     "output_type": "stream",
     "text": [
      "Number of classes: 2\n"
     ]
    }
   ],
   "source": [
    "# properly encode the target labels\n",
    "Y = label_encoder.fit_transform(Y)\n",
    "K = max(Y) + 1 # number of classes\n",
    "\n",
    "print(\"Number of classes: \"+str(K))"
   ]
  },
  {
   "cell_type": "markdown",
   "metadata": {},
   "source": [
    "Given $m$ total data points, keep $m\\_training = 100$ data points as data for ***training and validation*** and $m\\_test = m - m\\_training$ as test data. Splitting is random, using as seed your ID number. Make sure that the training set contains at least 10 instances from each class.If it does not, modify the code so to apply a random\n",
    "permutation (or the same permutation multiple times) to the samples until this happens."
   ]
  },
  {
   "cell_type": "code",
   "execution_count": 7,
   "metadata": {},
   "outputs": [
    {
     "name": "stdout",
     "output_type": "stream",
     "text": [
      "[1 0 0 0 0 0 1 1 0 1 0 0 1 1 0 1 0 1 0 1 0 1 0 1 1 1 0 0 0 1 1 1 1 0 1 0 1\n",
      " 0 0 0 1 1 0 0 1 0 1 0 1 0 1 0 0 0 0 0 0 1 0 0 0 0 1 1 0 0 1 0 0 1 0 1 0 0\n",
      " 0 1 0 0 0 1 0 0 0 1 1 0 0 1 1 1 0 0 1 1 0 0 0 0 0 1]\n",
      "0.45454545454545453\n"
     ]
    }
   ],
   "source": [
    "# Split data into training and validation data\n",
    "\n",
    "# load a package which is useful for the training-test splitting\n",
    "# from sklearn.cross_validation import train_test_split\n",
    "from sklearn.model_selection import train_test_split\n",
    "\n",
    "# number of samples\n",
    "m = np.shape(X)[0]\n",
    "\n",
    "#Divide in training and test: make sure that your training set\n",
    "#contains at least 10 elements from class 1 and at least 10 elements\n",
    "#from class -1! If it does not, modify the code so to apply more random\n",
    "#permutations (or the same permutation multiple times) until this happens.\n",
    "\n",
    "permutation = np.random.permutation(m)\n",
    "X = X[permutation]\n",
    "Y = Y[permutation]\n",
    "\n",
    "m_training = 100 #  # use 100 samples for training + validation...\n",
    "m_test = m-m_training # and the rest for testing\n",
    "\n",
    "# test_size is the proportion of samples in the test set\n",
    "X_training, X_test, Y_training, Y_test = train_test_split(X, Y, test_size =float(m_test)/float(m), random_state = IDnumber)\n",
    "\n",
    "print(Y_training)\n",
    "\n",
    "m_training = X_training.shape[0]\n",
    "m_test = X_test.shape[0]\n",
    "\n",
    "#let's see what the fraction of ones in the entire dataset is\n",
    "print(float(sum(Y_training)+sum(Y_test))/float(m_training+m_test))"
   ]
  },
  {
   "cell_type": "markdown",
   "metadata": {},
   "source": [
    "Standardize the data to have zero-mean and unit variance (columnwise):"
   ]
  },
  {
   "cell_type": "code",
   "execution_count": 8,
   "metadata": {},
   "outputs": [],
   "source": [
    "# Standardize the Features Matrix\n",
    "from sklearn import preprocessing\n",
    "\n",
    "X = X.astype(np.float64) #standard scaler works with double precision data\n",
    "X_training = X_training.astype(np.float64)\n",
    "X_test = X_test.astype(np.float64)\n",
    "\n",
    "#let's use the standard scaling; we degine the scaling for the entire dataset\n",
    "scaler = preprocessing.StandardScaler().fit(X)\n",
    "\n",
    "#let's apply the scaling to the training set\n",
    "\n",
    "X_training = scaler.transform(X_training)\n",
    "#let's apply the scaling to the test set\n",
    "\n",
    "X_test = scaler.transform(X_test)"
   ]
  },
  {
   "cell_type": "markdown",
   "metadata": {},
   "source": [
    "### Perform Logistic Regression\n",
    "\n",
    "We now perform logistic regression using the function provided by Scikit-learn.\n",
    "\n",
    "Note: as provided by Scikit-learn, logistic regression is always implemented using regularization. However, the impact of regularization can be dampened to have almost no regularization by changing the parameter $C$, which is the inverse of $\\lambda$. Therefore to have no regularization, which is $\\lambda = 0$ for the model seen in class, we need $C$ to have a large value. Here we fix $C = 100000000$.\n",
    "\n",
    "[Note that the intercept is estimated in the model.]\n",
    "\n",
    "For all our models we are going to use 10-fold cross validation to estimate the parameters (when needed) and/or estimate the validation error."
   ]
  },
  {
   "cell_type": "code",
   "execution_count": 9,
   "metadata": {},
   "outputs": [
    {
     "name": "stdout",
     "output_type": "stream",
     "text": [
      "Values of parameter C tried in 10-fold Cross-Validation: [100000000]\n",
      "Accuracies obtained for the different values of C with 10-fold Cross-Validation: [0.55212121]\n",
      "Best value of parameter C according to 10-fold Cross-Validation: 100000000\n",
      "<class 'dict'>\n",
      "10-fold Cross-Validation accuracies obtained with the best value of parameter C: [0.8]\n"
     ]
    }
   ],
   "source": [
    "from sklearn import linear_model\n",
    "\n",
    "# define a logistic regression model with very high C parameter -> low impact from regularization;\n",
    "# there are many solvers available to obtain the solution to the logistic regression problem, we just pick\n",
    "# one of them; 'cv' is the number of folds in cross-validation; we also specify l2 as regularization penalty,\n",
    "# just to pick one; Cs contains the values of C to be tested and to pick from with validation. Here we\n",
    "# are interested in only 1 value of C, and use cross-validation just to estimate the validation error\n",
    "# in a same way as other models\n",
    "\n",
    "reg = linear_model.LogisticRegressionCV(Cs=[100000000], solver='newton-cg',cv=10, penalty='l2')\n",
    "\n",
    "#fit the model on training data\n",
    "reg.fit(X_training, Y_training)\n",
    "\n",
    "# the attribute 'Cs_' contains ALL the values of C evaluated in cross-validation;\n",
    "# let's print them\n",
    "print(\"Values of parameter C tried in 10-fold Cross-Validation: {}\".format( reg.Cs_ ))\n",
    "\n",
    "# the attribute 'scores_' contains the accuracy obtained in each fold, for each value \n",
    "# of C tried; we now compute the average accuracy across the 10 folds\n",
    "\n",
    "CV_accuracies = np.divide(np.sum(reg.scores_[1],axis=0),10)\n",
    "\n",
    "# let's print the average accuracies obtained for the various values of C\n",
    "\n",
    "print(\"Accuracies obtained for the different values of C with 10-fold Cross-Validation: {}\".format( CV_accuracies ))\n",
    "\n",
    "# the attribute 'C_' contains the best value of C as identified by cross-validation;\n",
    "# let's print it\n",
    "\n",
    "print(\"Best value of parameter C according to 10-fold Cross-Validation: {}\".format( reg.C_[0] ))\n",
    "\n",
    "# let's store the best CV accuracy, and then print it\n",
    "print(type(reg.scores_))\n",
    "reg_best_CV_accuracy = max(reg.scores_[1])\n",
    "print(\"10-fold Cross-Validation accuracies obtained with the best value of parameter C: {}\".format( reg_best_CV_accuracy ))"
   ]
  },
  {
   "cell_type": "markdown",
   "metadata": {},
   "source": [
    "Note that the logistic regression function in Scikit-learn has many optional parameters. Read the documentation if you want to understand what they do!"
   ]
  },
  {
   "cell_type": "markdown",
   "metadata": {},
   "source": [
    "## TODO 1\n",
    "### Learn the best model from Logistic Regression on the entire training set and examine coefficients (by printing and plotting them)\n",
    "\n",
    "Note that you can use simply $linear\\_model.LogisticRegression()$, that does not use cross-validation, without passing the best value of $C$ (and then fit())."
   ]
  },
  {
   "cell_type": "code",
   "execution_count": 28,
   "metadata": {},
   "outputs": [
    {
     "name": "stderr",
     "output_type": "stream",
     "text": [
      "/home/alessandro/anaconda3/lib/python3.7/site-packages/sklearn/linear_model/logistic.py:432: FutureWarning: Default solver will be changed to 'lbfgs' in 0.22. Specify a solver to silence this warning.\n",
      "  FutureWarning)\n"
     ]
    },
    {
     "name": "stdout",
     "output_type": "stream",
     "text": [
      "Coefficients obtained using the entire training set: [[-2.88478746e-01  2.88478746e-01 -2.88478746e-01  2.88478746e-01\n",
      "   6.26487486e-02  1.97804393e-01 -1.97804393e-01 -1.47778744e-01\n",
      "   1.47778744e-01 -7.47956835e-01  7.47956835e-01 -4.21945314e-01\n",
      "   3.06416063e-01 -5.41123999e-01  2.71943312e-01  1.04774490e-01\n",
      "  -3.75381266e-01 -3.47946069e-01  1.06314654e+00 -9.99720499e-01\n",
      "   2.44810575e-01  2.72064234e-01  2.07042146e-01 -5.33817687e-01\n",
      "  -4.45391091e-01  8.84877530e-01 -5.97423938e-02  5.32315177e-02\n",
      "   5.24913885e-01 -2.26389263e-01 -6.71988505e-01 -1.28207276e-01\n",
      "  -9.21298596e-01  1.95735191e+00  7.57004798e-01  2.36183681e-01\n",
      "  -1.02873645e+00 -1.30374981e+00 -2.28434679e-02 -2.89736477e-01\n",
      "  -9.27259596e-02  8.33993065e-01  6.33463547e-01  3.01068426e-01\n",
      "   7.83975169e-01 -5.14461431e-01 -4.55376330e-01  5.00696342e-01\n",
      "  -3.83115289e-02 -2.22176606e-01 -1.01282699e-02 -8.31330575e-04\n",
      "  -4.49262368e-01 -9.25502790e-01 -1.06679727e-01  3.07805990e-01\n",
      "   1.13474562e+00 -2.81013019e-01  2.60350138e-01 -1.44874116e+00\n",
      "   1.17630216e+00  2.95930633e-01  1.46437462e+00  4.55513171e-01]]\n",
      "Intercept: [-1.04365752]\n",
      "total number coef:   64\n",
      "below 1e0  coef:     56\n",
      "below 1e-1 coef:     8\n",
      "below 1e-2 coef:     1\n",
      "below 1e-3 coef:     1\n"
     ]
    },
    {
     "data": {
      "image/png": "[encoded data removed]",
      "text/plain": [
       "<Figure size 432x288 with 1 Axes>"
      ]
     },
     "metadata": {
      "needs_background": "light"
     },
     "output_type": "display_data"
    }
   ],
   "source": [
    "#Use a large C to disable regularization\n",
    "reg_full = linear_model.LogisticRegression(C=10000000)\n",
    "reg_full.fit(X_training, Y_training)\n",
    "\n",
    "\n",
    "# print the coefficients from the logistic regression model.\n",
    "print(\"Coefficients obtained using the entire training set: {}\".format( reg_full.coef_ ))\n",
    "\n",
    "# note that the intercept is not in coef_, it is in intercept_\n",
    "\n",
    "print(\"Intercept: {}\".format( reg_full.intercept_ ))\n",
    "\n",
    "print(\"total number coef:  \",len(reg_full.coef_[0]) )\n",
    "print(\"below 1e0  coef:    \",len(reg_full.coef_[abs(reg_full.coef_)<1e0]))\n",
    "print(\"below 1e-1 coef:    \",len(reg_full.coef_[abs(reg_full.coef_)<1e-1]))\n",
    "print(\"below 1e-2 coef:    \",len(reg_full.coef_[abs(reg_full.coef_)<1e-2]))\n",
    "print(\"below 1e-3 coef:    \",len(reg_full.coef_[abs(reg_full.coef_)<1e-3]))\n",
    "\n",
    "# Plot the coefficients\n",
    "reg_coef = reg_full.coef_.reshape(reg_full.coef_.shape[1],)\n",
    "plt.figure()\n",
    "ind = np.arange(1,len(reg_coef)+1)  # the x locations for the groups\n",
    "width = 0.45       # the width of the bars\n",
    "plt.bar(ind, reg_coef, width, color='b')\n",
    "plt.xlabel('Coefficient Index')\n",
    "plt.ylabel('Coefficient Value')\n",
    "plt.title('Logistic Regression Coefficients')\n",
    "plt.show()"
   ]
  },
  {
   "cell_type": "markdown",
   "metadata": {},
   "source": [
    "## TO DO 2\n",
    "\n",
    "### Questions: How many coefficients do you get (recall that the one-hot encoding has been used for some of the features)? Why? How many of them are \"close\" to 0? What do negative coefficient values mean? (max 5 lines)\n",
    "\n",
    "### Answer to the questions\n",
    "\n",
    "Since the one-hot encoding was performed the values that variables can obtained are encoded, i should then expect a total number of coefficients equal to the total sum of features in the data set which is verified since both have the vale of 64.\n",
    "If taken in module only 8 coefficient have close to 0 values, where with close to 0 is meant inferior to 0.1 and only one parameter has a value inferior to 0.01.\n",
    "Negative value may mean that there is a inverse relation between the interested features.\n"
   ]
  },
  {
   "cell_type": "markdown",
   "metadata": {},
   "source": [
    "## TO DO 3\n",
    "### Predict labels on training and test\n",
    "\n",
    "- Compute the predicted labels on training and test data using reg.predict\n",
    " - Evaluate the accuracy using metrics.accuracy_score from scikit-learn (it returns the percentage of data correctly classified).\n",
    " - Evaluate the score used by logistic regression on training and test data using metrics.accuracy_score()"
   ]
  },
  {
   "cell_type": "code",
   "execution_count": 39,
   "metadata": {},
   "outputs": [
    {
     "name": "stdout",
     "output_type": "stream",
     "text": [
      "Accuracy estimation for training set:  0.88\n",
      "Accuracy estimation for test set:  0.5828779599271403\n"
     ]
    }
   ],
   "source": [
    "from sklearn import metrics\n",
    "\n",
    "# prediction on training data\n",
    "Y_training_prediction_LR = reg_full.predict(X_training)\n",
    "\n",
    "# compute accuracy as suggested above using metrics.accuracy_score from scikit-learn for training dataset\n",
    "\n",
    "print(\"Accuracy estimation for training set: \", metrics.accuracy_score(Y_training, Y_training_prediction_LR))\n",
    "# prediction on test data\n",
    "Y_test_prediction_LR = reg_full.predict(X_test)\n",
    "\n",
    "# compute accuracy as suggested above using metrics.accuracy_score from scikit-learn for test dataset\n",
    "\n",
    "print('Accuracy estimation for test set: ',metrics.accuracy_score(Y_test, Y_test_prediction_LR))\n"
   ]
  },
  {
   "cell_type": "markdown",
   "metadata": {},
   "source": [
    "## TO DO 4\n",
    "### Use L2 regularized logistic regression with cross-validation\n",
    "\n",
    "We perform the L2 regularization for different values of the regularization parameter $C$, and use the Scikit-learn function to perform cross-validation (CV).\n",
    "\n",
    "In L2 regularized logistic regression, the following L2 regularization term is added to the loss:\n",
    "\n",
    "$$\n",
    "    \\lambda \\sum_{i=1}^d w_i^2\n",
    "$$\n",
    "\n",
    "The parameter $C$ used by Scikit learn corresponds to the inverse of $\\lambda$, that is $C = \\frac{1}{\\lambda}$.\n",
    "\n",
    "Note: the CV in Scikit-learn is by default a *stratified* CV, that means that data is split into train-validation while maintaining the proportion of different classes in each fold.\n",
    "\n",
    "In the code below:\n",
    "- use LogisticRegressionCV() to select the best value of C with a 10-fold CV with L2 penalty;\n",
    "- use LogisticRegression() to learn the best model for the best C with L2 penalty on the entire training set\n",
    "\n",
    "Note that LogisticRegressionCV() picks some default values of C to try, but you may need to pass some other values in case for your dataset you need to explore a different interval of values. This applies every time that you use LogisticRegressionCV()."
   ]
  },
  {
   "cell_type": "code",
   "execution_count": 57,
   "metadata": {},
   "outputs": [
    {
     "name": "stderr",
     "output_type": "stream",
     "text": [
      "/home/alessandro/anaconda3/lib/python3.7/site-packages/sklearn/linear_model/logistic.py:947: ConvergenceWarning: lbfgs failed to converge. Increase the number of iterations.\n",
      "  \"of iterations.\", ConvergenceWarning)\n",
      "/home/alessandro/anaconda3/lib/python3.7/site-packages/sklearn/linear_model/logistic.py:947: ConvergenceWarning: lbfgs failed to converge. Increase the number of iterations.\n",
      "  \"of iterations.\", ConvergenceWarning)\n",
      "/home/alessandro/anaconda3/lib/python3.7/site-packages/sklearn/linear_model/logistic.py:947: ConvergenceWarning: lbfgs failed to converge. Increase the number of iterations.\n",
      "  \"of iterations.\", ConvergenceWarning)\n",
      "/home/alessandro/anaconda3/lib/python3.7/site-packages/sklearn/linear_model/logistic.py:947: ConvergenceWarning: lbfgs failed to converge. Increase the number of iterations.\n",
      "  \"of iterations.\", ConvergenceWarning)\n",
      "/home/alessandro/anaconda3/lib/python3.7/site-packages/sklearn/linear_model/logistic.py:947: ConvergenceWarning: lbfgs failed to converge. Increase the number of iterations.\n",
      "  \"of iterations.\", ConvergenceWarning)\n",
      "/home/alessandro/anaconda3/lib/python3.7/site-packages/sklearn/linear_model/logistic.py:947: ConvergenceWarning: lbfgs failed to converge. Increase the number of iterations.\n",
      "  \"of iterations.\", ConvergenceWarning)\n",
      "/home/alessandro/anaconda3/lib/python3.7/site-packages/sklearn/linear_model/logistic.py:947: ConvergenceWarning: lbfgs failed to converge. Increase the number of iterations.\n",
      "  \"of iterations.\", ConvergenceWarning)\n",
      "/home/alessandro/anaconda3/lib/python3.7/site-packages/sklearn/linear_model/logistic.py:947: ConvergenceWarning: lbfgs failed to converge. Increase the number of iterations.\n",
      "  \"of iterations.\", ConvergenceWarning)\n",
      "/home/alessandro/anaconda3/lib/python3.7/site-packages/sklearn/linear_model/logistic.py:947: ConvergenceWarning: lbfgs failed to converge. Increase the number of iterations.\n",
      "  \"of iterations.\", ConvergenceWarning)\n",
      "/home/alessandro/anaconda3/lib/python3.7/site-packages/sklearn/linear_model/logistic.py:947: ConvergenceWarning: lbfgs failed to converge. Increase the number of iterations.\n",
      "  \"of iterations.\", ConvergenceWarning)\n",
      "/home/alessandro/anaconda3/lib/python3.7/site-packages/sklearn/linear_model/logistic.py:947: ConvergenceWarning: lbfgs failed to converge. Increase the number of iterations.\n",
      "  \"of iterations.\", ConvergenceWarning)\n",
      "/home/alessandro/anaconda3/lib/python3.7/site-packages/sklearn/linear_model/logistic.py:947: ConvergenceWarning: lbfgs failed to converge. Increase the number of iterations.\n",
      "  \"of iterations.\", ConvergenceWarning)\n",
      "/home/alessandro/anaconda3/lib/python3.7/site-packages/sklearn/linear_model/logistic.py:947: ConvergenceWarning: lbfgs failed to converge. Increase the number of iterations.\n",
      "  \"of iterations.\", ConvergenceWarning)\n",
      "/home/alessandro/anaconda3/lib/python3.7/site-packages/sklearn/linear_model/logistic.py:947: ConvergenceWarning: lbfgs failed to converge. Increase the number of iterations.\n",
      "  \"of iterations.\", ConvergenceWarning)\n",
      "/home/alessandro/anaconda3/lib/python3.7/site-packages/sklearn/linear_model/logistic.py:947: ConvergenceWarning: lbfgs failed to converge. Increase the number of iterations.\n",
      "  \"of iterations.\", ConvergenceWarning)\n",
      "/home/alessandro/anaconda3/lib/python3.7/site-packages/sklearn/linear_model/logistic.py:947: ConvergenceWarning: lbfgs failed to converge. Increase the number of iterations.\n",
      "  \"of iterations.\", ConvergenceWarning)\n",
      "/home/alessandro/anaconda3/lib/python3.7/site-packages/sklearn/linear_model/logistic.py:947: ConvergenceWarning: lbfgs failed to converge. Increase the number of iterations.\n",
      "  \"of iterations.\", ConvergenceWarning)\n",
      "/home/alessandro/anaconda3/lib/python3.7/site-packages/sklearn/linear_model/logistic.py:947: ConvergenceWarning: lbfgs failed to converge. Increase the number of iterations.\n",
      "  \"of iterations.\", ConvergenceWarning)\n",
      "/home/alessandro/anaconda3/lib/python3.7/site-packages/sklearn/linear_model/logistic.py:947: ConvergenceWarning: lbfgs failed to converge. Increase the number of iterations.\n",
      "  \"of iterations.\", ConvergenceWarning)\n"
     ]
    },
    {
     "name": "stdout",
     "output_type": "stream",
     "text": [
      "Values of parameter C tried in 10-fold Cross-Validation: [1.e-10 1.e-09 1.e-08 1.e-07 1.e-06 1.e-05 1.e-04 1.e-03 1.e-02 1.e-01\n",
      " 1.e+00 1.e+01 1.e+02 1.e+03 1.e+04 1.e+05 1.e+06 1.e+07 1.e+08 1.e+09]\n",
      "Accuracies obtained for the different values of C with 10-fold Cross-Validation: {1: array([[0.63636364, 0.54545455, 0.54545455, 0.54545455, 0.54545455,\n",
      "        0.54545455, 0.54545455, 0.54545455, 0.54545455, 0.54545455,\n",
      "        0.54545455, 0.54545455, 0.45454545, 0.45454545, 0.45454545,\n",
      "        0.45454545, 0.45454545, 0.45454545, 0.45454545, 0.45454545],\n",
      "       [0.6       , 0.6       , 0.6       , 0.6       , 0.6       ,\n",
      "        0.6       , 0.6       , 0.6       , 0.5       , 0.4       ,\n",
      "        0.6       , 0.5       , 0.4       , 0.4       , 0.4       ,\n",
      "        0.4       , 0.5       , 0.5       , 0.5       , 0.5       ],\n",
      "       [0.8       , 0.6       , 0.6       , 0.6       , 0.6       ,\n",
      "        0.6       , 0.6       , 0.6       , 1.        , 0.9       ,\n",
      "        0.7       , 0.8       , 0.8       , 0.8       , 0.8       ,\n",
      "        0.8       , 0.8       , 0.8       , 0.8       , 0.8       ],\n",
      "       [0.6       , 0.6       , 0.6       , 0.6       , 0.6       ,\n",
      "        0.6       , 0.6       , 0.6       , 0.6       , 0.6       ,\n",
      "        0.5       , 0.5       , 0.5       , 0.5       , 0.5       ,\n",
      "        0.5       , 0.5       , 0.5       , 0.5       , 0.5       ],\n",
      "       [0.9       , 0.6       , 0.6       , 0.6       , 0.6       ,\n",
      "        0.6       , 0.6       , 0.6       , 0.8       , 0.8       ,\n",
      "        0.8       , 0.7       , 0.7       , 0.7       , 0.7       ,\n",
      "        0.7       , 0.7       , 0.7       , 0.7       , 0.7       ],\n",
      "       [0.7       , 0.6       , 0.6       , 0.6       , 0.6       ,\n",
      "        0.6       , 0.6       , 0.6       , 0.6       , 0.6       ,\n",
      "        0.6       , 0.5       , 0.5       , 0.5       , 0.5       ,\n",
      "        0.5       , 0.5       , 0.5       , 0.5       , 0.5       ],\n",
      "       [0.4       , 0.6       , 0.6       , 0.6       , 0.6       ,\n",
      "        0.6       , 0.6       , 0.6       , 0.5       , 0.5       ,\n",
      "        0.7       , 0.4       , 0.4       , 0.4       , 0.5       ,\n",
      "        0.5       , 0.5       , 0.5       , 0.5       , 0.5       ],\n",
      "       [0.7       , 0.6       , 0.6       , 0.6       , 0.6       ,\n",
      "        0.6       , 0.6       , 0.6       , 0.7       , 0.7       ,\n",
      "        0.4       , 0.3       , 0.5       , 0.5       , 0.5       ,\n",
      "        0.5       , 0.5       , 0.5       , 0.5       , 0.5       ],\n",
      "       [0.5       , 0.6       , 0.6       , 0.6       , 0.6       ,\n",
      "        0.6       , 0.6       , 0.6       , 0.7       , 0.6       ,\n",
      "        0.4       , 0.5       , 0.5       , 0.5       , 0.5       ,\n",
      "        0.5       , 0.5       , 0.5       , 0.5       , 0.5       ],\n",
      "       [0.55555556, 0.55555556, 0.55555556, 0.55555556, 0.55555556,\n",
      "        0.55555556, 0.55555556, 0.55555556, 0.66666667, 0.44444444,\n",
      "        0.66666667, 0.66666667, 0.66666667, 0.66666667, 0.66666667,\n",
      "        0.66666667, 0.66666667, 0.66666667, 0.66666667, 0.66666667]])}\n",
      "Best C parameter: [0.01]\n",
      "[[0.63636364 0.54545455 0.54545455 0.54545455 0.54545455 0.54545455\n",
      "  0.54545455 0.54545455 0.54545455 0.54545455 0.54545455 0.54545455\n",
      "  0.45454545 0.45454545 0.45454545 0.45454545 0.45454545 0.45454545\n",
      "  0.45454545 0.45454545]\n",
      " [0.6        0.6        0.6        0.6        0.6        0.6\n",
      "  0.6        0.6        0.5        0.4        0.6        0.5\n",
      "  0.4        0.4        0.4        0.4        0.5        0.5\n",
      "  0.5        0.5       ]\n",
      " [0.8        0.6        0.6        0.6        0.6        0.6\n",
      "  0.6        0.6        1.         0.9        0.7        0.8\n",
      "  0.8        0.8        0.8        0.8        0.8        0.8\n",
      "  0.8        0.8       ]\n",
      " [0.6        0.6        0.6        0.6        0.6        0.6\n",
      "  0.6        0.6        0.6        0.6        0.5        0.5\n",
      "  0.5        0.5        0.5        0.5        0.5        0.5\n",
      "  0.5        0.5       ]\n",
      " [0.9        0.6        0.6        0.6        0.6        0.6\n",
      "  0.6        0.6        0.8        0.8        0.8        0.7\n",
      "  0.7        0.7        0.7        0.7        0.7        0.7\n",
      "  0.7        0.7       ]\n",
      " [0.7        0.6        0.6        0.6        0.6        0.6\n",
      "  0.6        0.6        0.6        0.6        0.6        0.5\n",
      "  0.5        0.5        0.5        0.5        0.5        0.5\n",
      "  0.5        0.5       ]\n",
      " [0.4        0.6        0.6        0.6        0.6        0.6\n",
      "  0.6        0.6        0.5        0.5        0.7        0.4\n",
      "  0.4        0.4        0.5        0.5        0.5        0.5\n",
      "  0.5        0.5       ]\n",
      " [0.7        0.6        0.6        0.6        0.6        0.6\n",
      "  0.6        0.6        0.7        0.7        0.4        0.3\n",
      "  0.5        0.5        0.5        0.5        0.5        0.5\n",
      "  0.5        0.5       ]\n",
      " [0.5        0.6        0.6        0.6        0.6        0.6\n",
      "  0.6        0.6        0.7        0.6        0.4        0.5\n",
      "  0.5        0.5        0.5        0.5        0.5        0.5\n",
      "  0.5        0.5       ]\n",
      " [0.55555556 0.55555556 0.55555556 0.55555556 0.55555556 0.55555556\n",
      "  0.55555556 0.55555556 0.66666667 0.44444444 0.66666667 0.66666667\n",
      "  0.66666667 0.66666667 0.66666667 0.66666667 0.66666667 0.66666667\n",
      "  0.66666667 0.66666667]]\n",
      "10-fold Cross-Validation accuracies obtained with the best value of parameter C: 1.0\n"
     ]
    },
    {
     "data": {
      "text/plain": [
       "LogisticRegressionCV(Cs=array([0.01]), class_weight=None, cv=10, dual=False,\n",
       "                     fit_intercept=True, intercept_scaling=1.0, l1_ratios=None,\n",
       "                     max_iter=100, multi_class='warn', n_jobs=None,\n",
       "                     penalty='l2', random_state=None, refit=True, scoring=None,\n",
       "                     solver='lbfgs', tol=0.0001, verbose=0)"
      ]
     },
     "execution_count": 57,
     "metadata": {},
     "output_type": "execute_result"
    }
   ],
   "source": [
    "#define the model using LogisticRegressionCV passing an appropriate solver, cv value, and choice of penalty\n",
    "RegL2 = linear_model.LogisticRegressionCV(cv=10, penalty='l2', Cs=[10**x for x in range (-10,10)])\n",
    "\n",
    "#fit the model on training data\n",
    "RegL2.fit(X_training, Y_training)\n",
    "\n",
    "\n",
    "# the attribute 'Cs_' contains ALL the values of C evaluated in cross-validation;\n",
    "# let's print them\n",
    "print(\"Values of parameter C tried in 10-fold Cross-Validation: {}\".format( RegL2.Cs_ ))\n",
    "\n",
    "# the attribute 'scores_' contains the accuracy obtained in each fold, for each value \n",
    "# of C tried; we now compute the average accuracy across the 10 folds\n",
    "\n",
    "CV_accuracies = RegL2.scores_\n",
    "\n",
    "# let's print the average accuracies obtained for the various values of C\n",
    "\n",
    "print(\"Accuracies obtained for the different values of C with 10-fold Cross-Validation: {}\".format( CV_accuracies ))\n",
    "\n",
    "# the attribute 'C_' contains the best value of C as identified by cross-validation;\n",
    "# let's print it\n",
    "\n",
    "print(\"Best C parameter:\", RegL2.C_)\n",
    "# let's store the best CV accuracy, and then print it\n",
    "print(regL2.scores_[1])\n",
    "RegL2_best_CV_accuracy = np.max(RegL2.scores_[1])\n",
    "print(\"10-fold Cross-Validation accuracies obtained with the best value of parameter C: {}\".format( RegL2_best_CV_accuracy ))\n",
    "\n",
    "#define the model using the best C and an appropriate solver\n",
    "\n",
    "BestRegL2 = linear_model.LogisticRegressionCV(cv=10, penalty='l2', Cs=RegL2.C_)\n",
    "\n",
    "#fit the model using the best C on the entire training set\n",
    "\n",
    "BestRegL2.fit(X_training, Y_training)"
   ]
  },
  {
   "cell_type": "markdown",
   "metadata": {},
   "source": [
    "### TO DO 5: Print and plot the coefficients from logistic regression with and without regularization."
   ]
  },
  {
   "cell_type": "code",
   "execution_count": 58,
   "metadata": {},
   "outputs": [
    {
     "name": "stdout",
     "output_type": "stream",
     "text": [
      "Non regularized coefficients : [[-2.88478746e-01  2.88478746e-01 -2.88478746e-01  2.88478746e-01\n",
      "   6.26487486e-02  1.97804393e-01 -1.97804393e-01 -1.47778744e-01\n",
      "   1.47778744e-01 -7.47956835e-01  7.47956835e-01 -4.21945314e-01\n",
      "   3.06416063e-01 -5.41123999e-01  2.71943312e-01  1.04774490e-01\n",
      "  -3.75381266e-01 -3.47946069e-01  1.06314654e+00 -9.99720499e-01\n",
      "   2.44810575e-01  2.72064234e-01  2.07042146e-01 -5.33817687e-01\n",
      "  -4.45391091e-01  8.84877530e-01 -5.97423938e-02  5.32315177e-02\n",
      "   5.24913885e-01 -2.26389263e-01 -6.71988505e-01 -1.28207276e-01\n",
      "  -9.21298596e-01  1.95735191e+00  7.57004798e-01  2.36183681e-01\n",
      "  -1.02873645e+00 -1.30374981e+00 -2.28434679e-02 -2.89736477e-01\n",
      "  -9.27259596e-02  8.33993065e-01  6.33463547e-01  3.01068426e-01\n",
      "   7.83975169e-01 -5.14461431e-01 -4.55376330e-01  5.00696342e-01\n",
      "  -3.83115289e-02 -2.22176606e-01 -1.01282699e-02 -8.31330575e-04\n",
      "  -4.49262368e-01 -9.25502790e-01 -1.06679727e-01  3.07805990e-01\n",
      "   1.13474562e+00 -2.81013019e-01  2.60350138e-01 -1.44874116e+00\n",
      "   1.17630216e+00  2.95930633e-01  1.46437462e+00  4.55513171e-01]]\n",
      "L2 regularized coefficients  : [[-6.94268623e-02  6.94268623e-02 -6.94268623e-02  6.94268623e-02\n",
      "   4.79387353e-02 -5.93836429e-03  5.93836429e-03 -2.79242459e-02\n",
      "   2.79242459e-02 -3.67249017e-02  3.67249017e-02 -2.59463539e-02\n",
      "  -6.46844714e-03 -7.49284988e-03 -2.21329678e-02  3.97324534e-02\n",
      "  -2.40402709e-02 -1.94067807e-02  4.51291981e-02  8.64123770e-03\n",
      "  -3.38659868e-02  1.32031523e-02  2.33156924e-02 -5.63273780e-02\n",
      "  -1.95716303e-03  5.38171220e-02  4.41440901e-02 -1.42521249e-03\n",
      "  -4.95121655e-03 -1.12607845e-02 -1.35114179e-02 -1.82996271e-02\n",
      "   8.79764834e-04  3.02734813e-02 -2.77799869e-03 -8.37824786e-05\n",
      "   2.17474336e-02 -2.95972107e-02  4.39836734e-02 -2.42268002e-02\n",
      "  -2.91360820e-02  8.19835255e-03  3.75007561e-02  3.15933864e-02\n",
      "   5.76157370e-02 -1.82492089e-02 -5.60149373e-02 -1.94466085e-02\n",
      "  -1.31419536e-02 -2.75465425e-02  1.70094629e-02  5.10768874e-02\n",
      "  -4.48894794e-02 -5.99386653e-02 -2.72922296e-02  4.08991787e-02\n",
      "   8.67189792e-02  2.41177546e-04  1.76308112e-02 -4.70530438e-02\n",
      "   3.67219551e-02 -2.04646043e-03  1.04710493e-01 -4.54952372e-02]]\n",
      "Non regularized Intercept: [-1.04365752]\n",
      "L2 Regularized Intercept:  [-0.3831859]\n"
     ]
    },
    {
     "data": {
      "image/png": "[encoded data removed]",
      "text/plain": [
       "<Figure size 432x288 with 1 Axes>"
      ]
     },
     "metadata": {
      "needs_background": "light"
     },
     "output_type": "display_data"
    }
   ],
   "source": [
    "#print the coefficients from logistic regression\n",
    "\n",
    "print(\"Non regularized coefficients :\",  reg_full.coef_ )\n",
    "\n",
    "\n",
    "#print the coefficients from L2 regularized logistic regression\n",
    "\n",
    "print(\"L2 regularized coefficients  :\",  BestRegL2.coef_ )\n",
    "\n",
    "\n",
    "# note that the intercept is not in coef_, it is in intercept_\n",
    "print(\"Non regularized Intercept: {}\".format( reg_full.intercept_ ))\n",
    "print(\"L2 Regularized Intercept:  {}\".format( BestRegL2.intercept_ ))\n",
    "\n",
    "# Plot the coefficients\n",
    "regL2_full_coef = BestRegL2.coef_.reshape(BestRegL2.coef_.shape[1],)\n",
    "ind = np.arange(1,len(reg_coef)+1)  # the x locations for the groups\n",
    "width = 0.35       # the width of the bars\n",
    "fig, ax = plt.subplots()\n",
    "\n",
    "rects1 = ax.bar(ind, reg_coef, width, color='r')\n",
    "rects2 = ax.bar(ind + width, regL2_full_coef, width, color='g')\n",
    "ax.legend((rects1[0], rects2[0]), ('Log Regr', 'Log Regr + L2 Regul'))\n",
    "plt.xlabel('Coefficient Idx')\n",
    "plt.ylabel('Coefficient Value')\n",
    "plt.title('Logistic Regression Coefficients: Standard and Regularized Version')\n",
    "plt.show()"
   ]
  },
  {
   "cell_type": "markdown",
   "metadata": {},
   "source": [
    "### TO DO 6: how do the coefficients from logistic regression with L2 regularization compare to the ones from logistic regression without regularization ? Why? (max 5 lines)\n",
    "\n",
    "### Answer to the questions\n",
    "From the plot is clearly visible that there is an high difference between the two cases, in particolar the coefficients obtained without regularization are very low compared to the ones with l2 regularization"
   ]
  },
  {
   "cell_type": "markdown",
   "metadata": {},
   "source": [
    "### TO DO 7: obtain classification accuracy on training and test data for the L2 regularized model"
   ]
  },
  {
   "cell_type": "code",
   "execution_count": 59,
   "metadata": {},
   "outputs": [
    {
     "name": "stdout",
     "output_type": "stream",
     "text": [
      "Training Accuracy: 0.8\n",
      "Test Accuracy: 0.6539162112932605\n"
     ]
    }
   ],
   "source": [
    "#now get training and test error and print training and test accuracy\n",
    "\n",
    "# predictions on training data \n",
    "Y_training_prediction_LR_L2 = BestRegL2.predict(X_training)\n",
    "\n",
    "# predictions on test data \n",
    "Y_test_prediction_LR_L2 = BestRegL2.predict(X_test)\n",
    "\n",
    "# compute accuracy as suggested above using metrics.accuracy_score from scikit-learn on training data\n",
    "print(\"Training Accuracy:\", metrics.accuracy_score(Y_training, Y_training_prediction_LR_L2))\n",
    "\n",
    "# compute accuracy as suggested above using metrics.accuracy_score from scikit-learn on test data\n",
    "print(\"Test Accuracy:\",metrics.accuracy_score(Y_test, Y_test_prediction_LR_L2))\n",
    "\n",
    "\n",
    "\n",
    "# compute accuracy as suggested above using metrics.accuracy_score from scikit-learn for training dataset\n",
    "\n",
    "# COMPLETE\n",
    "\n",
    "# prediction on test data\n",
    "# compute accuracy as suggested above using metrics.accuracy_score from scikit-learn for test dataset\n",
    "\n",
    "# COMPLETE\n",
    "\n",
    "#already done before?"
   ]
  },
  {
   "cell_type": "markdown",
   "metadata": {},
   "source": [
    "### TO DO 8: How does training and test accuracies change when using regularization? Comment (max 5 lines)\n",
    "\n",
    "### Answer to the question"
   ]
  },
  {
   "cell_type": "markdown",
   "metadata": {
    "collapsed": true
   },
   "source": [
    "### TO DO 9: Use larger datasets for training set\n",
    "\n",
    "Perform the same estimation procedures using different more points on the training data, that is fix $m_{training} = 400$. You can simply copy and paste all the code you have written previously into the cell below."
   ]
  },
  {
   "cell_type": "code",
   "execution_count": null,
   "metadata": {
    "scrolled": false
   },
   "outputs": [],
   "source": [
    "# COMPLETE"
   ]
  },
  {
   "cell_type": "markdown",
   "metadata": {
    "collapsed": true
   },
   "source": [
    "### TO DO 10: Discuss all the questions above for the larger set (max 7 lines). Compare the impact of regularization in this case with the results you obtained for the smaller set.\n",
    "\n",
    "### Answer to the question\n"
   ]
  },
  {
   "cell_type": "code",
   "execution_count": null,
   "metadata": {},
   "outputs": [],
   "source": []
  }
 ],
 "metadata": {
  "anaconda-cloud": {},
  "kernelspec": {
   "display_name": "Python 3",
   "language": "python",
   "name": "python3"
  },
  "language_info": {
   "codemirror_mode": {
    "name": "ipython",
    "version": 3
   },
   "file_extension": ".py",
   "mimetype": "text/x-python",
   "name": "python",
   "nbconvert_exporter": "python",
   "pygments_lexer": "ipython3",
   "version": "3.7.3"
  }
 },
 "nbformat": 4,
 "nbformat_minor": 1
}
